{
 "cells": [
  {
   "cell_type": "code",
   "execution_count": 1,
   "metadata": {},
   "outputs": [],
   "source": [
    "import pandas as pd\n",
    "import numpy as np\n",
    "import pybtex.database as pbx # https://docs.pybtex.org/api/parsing.html#pybtex.database.BibliographyData"
   ]
  },
  {
   "cell_type": "code",
   "execution_count": null,
   "metadata": {},
   "outputs": [],
   "source": [
    "# change input varibles\n",
    "\n",
    "# define categories\n",
    "categories = pd.Index(['AI', 'Disease Identificaiton', 'Early Season Weed', \n",
    "                'Edge Computing', 'Image Processing','Precision Agriculture',\n",
    "                'Robotics', 'UAV', 'Weed Control'])\n",
    "\n",
    "bib_input_file = 'export.bib'"
   ]
  },
  {
   "cell_type": "code",
   "execution_count": 2,
   "metadata": {},
   "outputs": [],
   "source": [
    "no_category_count = 0\n",
    "no_category_list = []\n",
    "missing_group_count = 0\n",
    "missing_group_list = []\n",
    "\n",
    "\n",
    "# create header for csv\n",
    "header = ['title']\n",
    "header.extend(list(categories))\n",
    "    \n",
    "# create csv file\n",
    "with open('bib_keys.csv', 'w') as filehandle:\n",
    "    filehandle.write(','.join(map(str,header)))"
   ]
  },
  {
   "cell_type": "code",
   "execution_count": 3,
   "metadata": {},
   "outputs": [],
   "source": [
    "# read bibtex\n",
    "def read_bib():\n",
    "    bib_data = pbx.parse_file(bib_input_file, \"bibtex\")\n",
    "    return len(list(bib_data.entries.keys())),list(bib_data.entries.keys()),bib_data"
   ]
  },
  {
   "cell_type": "code",
   "execution_count": 4,
   "metadata": {},
   "outputs": [],
   "source": [
    "# add row in csv for every entry\n",
    "def create_csv(key,groups):\n",
    "    global no_category_count, no_category_list\n",
    "    line = [key]\n",
    "    groups = categories.isin(groups).astype(int)\n",
    "    if groups.sum() != 0:\n",
    "        line.extend(list(groups.astype(str)))\n",
    "        line = ','.join(map(str, line))\n",
    "        with open('bib_keys.csv', 'a') as filehandle:\n",
    "            filehandle.write(line)\n",
    "            filehandle.write('\\n')\n",
    "    else:\n",
    "        no_category_count += 1\n",
    "        no_category_list.append(key)"
   ]
  },
  {
   "cell_type": "code",
   "execution_count": 5,
   "metadata": {},
   "outputs": [],
   "source": [
    "# read each entry in bibtex\n",
    "def iter_bibtex(bib_data):\n",
    "    global missing_group_count, missing_group_list\n",
    "    for entry in bib_data.entries.values():\n",
    "        try:\n",
    "            groups = entry.fields['mendeley-groups'].split(\",\")\n",
    "        except KeyError:\n",
    "            missing_group_count += 1\n",
    "            missing_group_list.append(entry.key)\n",
    "            continue\n",
    "        create_csv(str(entry.key),groups)"
   ]
  },
  {
   "cell_type": "code",
   "execution_count": 6,
   "metadata": {},
   "outputs": [
    {
     "name": "stdout",
     "output_type": "stream",
     "text": [
      "Total Keys Read:  56\n",
      "\n",
      "\n",
      "Entries with Missing Group:  4\n",
      "['Camacho2018', 'Sabour2017', 'Hinton', 'Hinton2011']\n",
      "\n",
      "\n",
      "Entries with No Category:  12\n",
      "['Huang2016', 'Barrero2018', 'Sanders2019', 'Reddy2014', 'ranganathan2018sustainably', 'golijan2018global', 'GRV:2017', 'silva2018feeding', 'van2019management', 'van2016survey', 'legleiter2013palmer', 'GrandViewMarket2017']\n"
     ]
    }
   ],
   "source": [
    "total_keys, key_list, bib_data = read_bib()\n",
    "print(\"Total Keys Read: \", total_keys)\n",
    "print('\\n')\n",
    "iter_bibtex(bib_data)\n",
    "print('Entries with Missing Group: ', missing_group_count)\n",
    "print(missing_group_list)\n",
    "print('\\n')\n",
    "print('Entries with No Category: ', no_category_count)\n",
    "print(no_category_list)"
   ]
  }
 ],
 "metadata": {
  "kernelspec": {
   "display_name": "Python 3",
   "language": "python",
   "name": "python3"
  },
  "language_info": {
   "codemirror_mode": {
    "name": "ipython",
    "version": 3
   },
   "file_extension": ".py",
   "mimetype": "text/x-python",
   "name": "python",
   "nbconvert_exporter": "python",
   "pygments_lexer": "ipython3",
   "version": "3.7.6"
  }
 },
 "nbformat": 4,
 "nbformat_minor": 4
}
